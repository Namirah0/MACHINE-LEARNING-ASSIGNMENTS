{
 "cells": [
  {
   "cell_type": "code",
   "execution_count": null,
   "id": "f1e3318a",
   "metadata": {},
   "outputs": [],
   "source": [
    "1. What is the estimated depth of a Decision Tree trained (unrestricted) on a one million instance training set ?\n",
    "Ans: if the training set contains one million instances, the Decision Tree will have a depth of log2(106) ≈ 20 (actually a \n",
    "    bit more since the tree will generally not be perfectly well balanced)."
   ]
  },
  {
   "cell_type": "code",
   "execution_count": null,
   "id": "393059b2",
   "metadata": {},
   "outputs": [],
   "source": [
    "2. Is the Gini impurity of a node usually lower or higher than that of its parent? Is it always lower/greater, or is it usually\n",
    "lower/greater ?\n",
    "Ans:A node's Gini impurity is generally lower than that of its parent as the CART training algorithm cost function splits each \n",
    "    of the nodes in a way that minimizes the weighted sum of its children's Gini impurities. However, sometimes it is also \n",
    "    possible for a node to have a higher Gini impurity than its parent."
   ]
  },
  {
   "cell_type": "code",
   "execution_count": null,
   "id": "ae54ff15",
   "metadata": {},
   "outputs": [],
   "source": [
    "3. Explain if its a good idea to reduce max depth if a Decision Tree is overfitting the training set ?\n",
    "Ans: If a Decision Tree is overfitting the training set, it may be a good idea to decrease max_depth, since this will constrain\n",
    "    the model, regularizing it."
   ]
  },
  {
   "cell_type": "code",
   "execution_count": null,
   "id": "95ccca36",
   "metadata": {},
   "outputs": [],
   "source": [
    "4. Explain if its a good idea to try scaling the input features if a Decision Tree underfits the training set ?\n",
    "Ans: Decision Trees don't care whether or not the training data is scaled or centered; scaling the input features will just be\n",
    "    a waste of time."
   ]
  },
  {
   "cell_type": "code",
   "execution_count": null,
   "id": "682d962e",
   "metadata": {},
   "outputs": [],
   "source": [
    "5. How much time will it take to train another Decision Tree on a training set of 10 million instances if it takes an hour to \n",
    "train a Decision Tree on a training set with 1 million instances ?\n",
    "Ans: If it takes one hour to train a decision tree on a training set containing 1 million instances, roughly how much time will\n",
    "    it take to train another decision tree on a set with 10 million instances = n*10m*log(10)+10 hours. Therefore the total \n",
    "    results is 1.66+10 = 11.66 hours."
   ]
  },
  {
   "cell_type": "code",
   "execution_count": null,
   "id": "aecf6754",
   "metadata": {},
   "outputs": [],
   "source": [
    "6. Will setting presort=True speed up training if your training set has 100,000 instances ?\n",
    "Ans:If your training set contains 100,000 instances, will setting presort=True speed up training? Presorting the training set \n",
    "    speeds up training only if the dataset is smaller than a few thousand instances. If it contains 100,000 instances, setting\n",
    "    presort=True will considerably slow down training."
   ]
  },
  {
   "cell_type": "code",
   "execution_count": null,
   "id": "8c6f6884",
   "metadata": {},
   "outputs": [],
   "source": [
    "7. Follow these steps to train and fine-tune a Decision Tree for the moons dataset:\n",
    "1.To build a moons dataset, use make moons(n samples=10000, noise=0.4).\n",
    "2.Divide the dataset into a training and a test collection with train test split().\n",
    "3.To find good hyperparameters values for a DecisionTreeClassifier, use grid search with cross-validation (with the GridSearchCV\n",
    "class). Try different values for max leaf nodes.\n",
    "4.Use these hyperparameters to train the model on the entire training set, and then assess its output on the test set. You can \n",
    "achieve an accuracy of 85 to 87 percent.\n",
    "Ans: 1.Visualization\n",
    "     2.Selecting the model\n",
    "     3.Getting the training score\n",
    "     4.Getting the testing score\n",
    "  "
   ]
  },
  {
   "cell_type": "code",
   "execution_count": null,
   "id": "2d1207fe",
   "metadata": {},
   "outputs": [],
   "source": [
    "8. Follow these steps to grow a forest:\n",
    "Using the same method as before, create 1,000 subsets of the training set, each containing 100 instances chosen at random. You \n",
    "can do this with Scikit-ShuffleSplit Learn's class.\n",
    "Using the best hyperparameter values found in the previous exercise, train one Decision Tree on each subset. On the test \n",
    "collection, evaluate these 1,000 Decision Trees. These Decision Trees would likely perform worse than the first Decision Tree, \n",
    "achieving only around 80% accuracy, since they were trained on smaller sets.\n",
    "Now the magic begins. Create 1,000 Decision Tree predictions for each test set case, and keep only the most common prediction \n",
    "(you can do this with SciPy's mode() function). Over the test collection, this method gives you majority-vote predictions.\n",
    "On the test range, evaluate these predictions: you should achieve a slightly higher accuracy than the first model (approx 0.5 \n",
    "to 1.5 percent higher). You've successfully learned a Random Forest classifier!"
   ]
  }
 ],
 "metadata": {
  "kernelspec": {
   "display_name": "Python 3 (ipykernel)",
   "language": "python",
   "name": "python3"
  },
  "language_info": {
   "codemirror_mode": {
    "name": "ipython",
    "version": 3
   },
   "file_extension": ".py",
   "mimetype": "text/x-python",
   "name": "python",
   "nbconvert_exporter": "python",
   "pygments_lexer": "ipython3",
   "version": "3.9.7"
  }
 },
 "nbformat": 4,
 "nbformat_minor": 5
}
