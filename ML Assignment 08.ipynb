{
 "cells": [
  {
   "cell_type": "code",
   "execution_count": null,
   "id": "c302a254",
   "metadata": {},
   "outputs": [],
   "source": [
    "1. What exactly is a feature? Give an example to illustrate your point ?\n",
    "Ans: Features are the basic building blocks of datasets. The quality of the features in your dataset has a major impact on the \n",
    "quality of the insights you will gain when you use that dataset for machine learning.\n",
    "\n",
    "Additionally, different business problems within the same industry do not necessarily require the same features, which is why \n",
    "it is important to have a strong understanding of the business goals of your data science project.\n",
    "\n",
    "In machine learning and pattern recognition, a feature is an individual measurable property or characteristic of a phenomenon.\n",
    "Choosing informative, discriminating and independent features is a crucial element of effective algorithms in pattern \n",
    "recognition, classification and regression."
   ]
  },
  {
   "cell_type": "code",
   "execution_count": null,
   "id": "4a7e4b82",
   "metadata": {},
   "outputs": [],
   "source": [
    "2. What are the various circumstances in which feature construction is required ?\n",
    "Ans: The features in your data will directly influence the predictive models you use and the results you can achieve. Our \n",
    "    results are dependent on many inter-dependent properties. We need great features that describe the structures inherent in\n",
    "    your data. Better features means flexibility. The process of generating new variables (features) based on already existing \n",
    "    variables is known as feature construction.\n",
    "\n",
    "Feature Construction is a useful process as it can add more information and give more insights of the data we are dealing with. \n",
    "It is done by transforming the numerical features into categorical features which is done while performing Binning. Also, \n",
    "feature construction is done by decomposing variables so that these new variables can be used in various machine learning \n",
    "algorithms such as the creation of Dummy Variables by performing Encoding. Other ways of constructing include deriving features \n",
    "from the pre-existing features and coming up with more meaningful features."
   ]
  },
  {
   "cell_type": "code",
   "execution_count": null,
   "id": "137acd55",
   "metadata": {},
   "outputs": [],
   "source": [
    "3. Describe how nominal variables are encoded ?\n",
    "Ans: Nominal data is made of discrete values with no numerical relationship between the different categories — mean and median \n",
    "    are meaningless. Animal species is one example. For example, pig is not higher than bird and lower than fish. Ordinal or \n",
    "    Label Encoding can be used to transform non-numerical labels into numerical labels (or nominal categorical variables). \n",
    "    Numerical labels are always between 1 and the number of classes. The labels chosen for the categories have no relationship. \n",
    "    So categories that have some ties or are close to each other lose such information after encoding. The first unique value \n",
    "    in your column becomes 1, the second becomes 2, the third becomes 3, and so on."
   ]
  },
  {
   "cell_type": "code",
   "execution_count": null,
   "id": "51fc4470",
   "metadata": {},
   "outputs": [],
   "source": [
    "4. Describe how numeric features are converted to categorical features ?\n",
    "Ans: Numeric Features can be converted to Categorical Features using Binning. Discretization: It is the process of transforming \n",
    "        continuous variables into categorical variables by creating a set of intervals, which are contiguous, that span over \n",
    "        the range of the variable’s values. It is also known as “Binning”, where the bin is an analogous name for an interval.\n",
    "\n",
    "Benefits of this method are:\n",
    "\n",
    "Handles the Outliers in a better way.\n",
    "Improves the value spread.\n",
    "Minimize the effects of small observation errors.\n",
    "ables.\n",
    "\n",
    "Techniques to Encode Numerical Columns:\n",
    "\n",
    "(a) Equal width binning: It is also known as “Uniform Binning” since the width of all the intervals is the same. The algorithm \n",
    "    divides the data into N intervals of equal size. The width of intervals is:\n",
    "\n",
    "w=(max-min)/N\n",
    "Therefore, the interval boundaries are:[min+w], [min+2w], [min+3w],..., [min+(N-1)w] where, min and max are the minimum and \n",
    "    maximum value from the data respectively. This technique does not changes the spread of the data but does handle the \n",
    "    outliers.\n",
    "\n",
    "(b) Equal frequency binning: It is also known as “Quantile Binning”. The algorithm divides the data into N groups where each \n",
    "    group contains approximately the same number of values.\n",
    "\n",
    "Consider, we want 10 bins, that is each interval contains 10% of the total observations. Here the width of the interval need \n",
    "not necessarily be equal. Handles outliers better than the previous method and makes the value spread approximately uniform\n",
    "(each interval contains almost the same number of values).\n",
    "\n",
    "(c) K-means binning: This technique uses the clustering algorithm namely ” K-Means Algorithm”. This technique is mostly used \n",
    "    when our data is in the form of clusters."
   ]
  },
  {
   "cell_type": "code",
   "execution_count": null,
   "id": "84c38c26",
   "metadata": {},
   "outputs": [],
   "source": [
    "5. Describe the feature selection wrapper approach. State the advantages and disadvantages of this approach ?\n",
    "Ans: Wrapper methods measure the “usefulness” of features based on the classifier performance. In contrast, the filter methods \n",
    "    \\pick up the intrinsic properties of the features (i.e., the “relevance” of the features) measured via univariate \n",
    "    statistics instead of cross-validation performance.\n",
    "\n",
    "The wrapper classification algorithms with joint dimensionality reduction and classification can also be used but these methods \n",
    "have high computation cost, lower discriminative power. Moreover, these methods depend on the efficient selection of classifiers\n",
    "for obtaining high accuracy.\n",
    "\n",
    "Most commonly used techniques under wrapper methods are:\n",
    "\n",
    "1.Forward selection: In forward selection, we start with a null model and then start fitting the model with each individual \n",
    "    feature one at a time and select the feature with the minimum p-value. Now fit a model with two features by trying \n",
    "    combinations of the earlier selected feature with all other remaining features. Again select the feature with the minimum \n",
    "    p-value. Now fit a model with three features by trying combinations of two previously selected features with other \n",
    "    remaining features. Repeat this process until we have a set of selected features with a p-value of individual features less \n",
    "    than the significance level.\n",
    "\n",
    "2.Backward elimination: In backward elimination, we start with the full model (including all the independent variables) and \n",
    "    then remove the insignificant feature with the highest p-value(> significance level). This process repeats again and again\n",
    "    until we have the final set of significant features\n",
    "\n",
    "3.Bi-directional elimination(Stepwise Selection): It is similar to forward selection but the difference is while adding a new \n",
    "    feature it also checks the significance of already added features and if it finds any of the already selected features \n",
    "    insignificant then it simply removes that particular feature through backward elimination. Hence, It is a combination of \n",
    "    forward selection and backward elimination."
   ]
  },
  {
   "cell_type": "code",
   "execution_count": null,
   "id": "61f91ae3",
   "metadata": {},
   "outputs": [],
   "source": [
    "6. When is a feature considered irrelevant? What can be said to quantify it ?\n",
    "Ans: Features are considered relevant if they are either strongly or weakly relevant, and are considered irrelevant otherwise.\n",
    "\n",
    "Irrelevant features can never contribute to prediction accuracy, by definition. Also to quantify it we need to first check the \n",
    "list of features, There are three types of feature selection:\n",
    "\n",
    "Wrapper methods (forward, backward, and stepwise selection)\n",
    "Filter methods (ANOVA, Pearson correlation, variance thresholding)\n",
    "Embedded methods (Lasso, Ridge, Decision Tree).\n",
    "p-value greater than 0.05 means that the feature is insignificant."
   ]
  },
  {
   "cell_type": "code",
   "execution_count": null,
   "id": "81abec5c",
   "metadata": {},
   "outputs": [],
   "source": [
    "7. When is a function considered redundant? What criteria are used to identify features that could be redundant ?\n",
    "Ans: If two features {X1, X2} are highly correlated, then the two features become redundant features since they have same \n",
    "    information in terms of correlation measure. In other words, the correlation measure provides statistical association \n",
    "    between any given a pair of features.\n",
    "\n",
    "Minimum redundancy feature selection is an algorithm frequently used in a method to accurately identify characteristics of \n",
    "genes and phenotypes"
   ]
  },
  {
   "cell_type": "code",
   "execution_count": null,
   "id": "7a50f067",
   "metadata": {},
   "outputs": [],
   "source": [
    "8. What are the various distance measurements used to determine feature similarity ?\n",
    "Ans: Four of the most commonly used distance measures in machine learning are as follows:\n",
    "\n",
    "Hamming Distance: Hamming distance calculates the distance between two binary vectors, also referred to as binary strings or \n",
    "    bitstrings for short.\n",
    "\n",
    "Euclidean Distance: Calculates the distance between two real-valued vectors.\n",
    "\n",
    "Manhattan Distance: Also called the Taxicab distance or the City Block distance, calculates the distance between two \n",
    "    real-valued vectors.\n",
    "\n",
    "Minkowski Distance: Minkowski distance calculates the distance between two real-valued vectors. It is a generalization of the \n",
    "    Euclidean and Manhattan distance measures and adds a parameter, called the “order” or “p“, that allows different distance \n",
    "    measures to be calculated."
   ]
  },
  {
   "cell_type": "code",
   "execution_count": null,
   "id": "c63e5d38",
   "metadata": {},
   "outputs": [],
   "source": [
    "9. State difference between Euclidean and Manhattan distances ?\n",
    "Ans: Euclidean & Hamming distances are used to measure similarity or dissimilarity between two sequences. Euclidean distance \n",
    "    is extensively applied in analysis of convolutional codes and Trellis codes.\n",
    "\n",
    "Euclidean distance is the shortest path between source and destination which is a straight line as shown in Figure 1.3. but \n",
    "Manhattan distance is sum of all the real distances between source(s) and destination(d) and each distance are always the \n",
    "straight lines"
   ]
  },
  {
   "cell_type": "code",
   "execution_count": null,
   "id": "4db63ee6",
   "metadata": {},
   "outputs": [],
   "source": [
    "10. Distinguish between feature transformation and feature selection ?\n",
    "Ans: Feature selection is for filtering irrelevant or redundant features from your dataset. The key difference between feature \n",
    "    selection and extraction is that feature selection keeps a subset of the original features while feature extraction creates \n",
    "    brand new ones.\n",
    "\n",
    "Feature selection is the process of reducing the number of input variables when developing a predictive model. It is desirable \n",
    "to reduce the number of input variables to both reduce the computational cost of modeling and, in some cases, to improve the \n",
    "performance of the model.\n",
    "\n",
    "Feature Transformation is a technique by which we can boost our model performance. Feature transformation is a mathematical \n",
    "transformation in which we apply a mathematical formula to a particular column(feature) and transform the values which are \n",
    "useful for our further analysis. It is also known as Feature Engineering, which is creating new features from existing features\n",
    "that may help in improving the model performance. It refers to the family of algorithms that create new features using the \n",
    "existing features. These new features may not have the same interpretation as the original features, but they may have more \n",
    "explanatory power in a different space rather than in the original space. This can also be used for Feature Reduction. It can \n",
    "be done in many ways, by linear combinations of original features or by using non-linear functions. It helps machine learning \n",
    "algorithms to converge faster."
   ]
  },
  {
   "cell_type": "code",
   "execution_count": null,
   "id": "9b2106c1",
   "metadata": {},
   "outputs": [],
   "source": []
  }
 ],
 "metadata": {
  "kernelspec": {
   "display_name": "Python 3 (ipykernel)",
   "language": "python",
   "name": "python3"
  },
  "language_info": {
   "codemirror_mode": {
    "name": "ipython",
    "version": 3
   },
   "file_extension": ".py",
   "mimetype": "text/x-python",
   "name": "python",
   "nbconvert_exporter": "python",
   "pygments_lexer": "ipython3",
   "version": "3.9.7"
  }
 },
 "nbformat": 4,
 "nbformat_minor": 5
}
