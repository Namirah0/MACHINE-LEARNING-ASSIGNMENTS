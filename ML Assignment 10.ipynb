{
 "cells": [
  {
   "cell_type": "code",
   "execution_count": null,
   "id": "be3a962c",
   "metadata": {},
   "outputs": [],
   "source": [
    "1. Define the Bayesian interpretation of probability.\n",
    "Ans: Bayesian probability is the study of subjective probabilities or belief in an outcome, compared to the frequentist \n",
    "    approach where probabilities are based purely on the past occurrence of the event. A Bayesian Network captures the joint \n",
    "    probabilities of the events represented by the model."
   ]
  },
  {
   "cell_type": "code",
   "execution_count": null,
   "id": "465813ab",
   "metadata": {},
   "outputs": [],
   "source": [
    "2. Define probability of a union of two events with equation.\n",
    "Ans: The general probability addition rule for the union of two events states that P(A∪B)=P(A)+P(B)−P(A∩B), where A∩B is the \n",
    "    intersection of the two sets."
   ]
  },
  {
   "cell_type": "code",
   "execution_count": null,
   "id": "6846f134",
   "metadata": {},
   "outputs": [],
   "source": [
    "3. What is joint probability? What is its formula?\n",
    "Ans: Probabilities are combined using multiplication, therefore the joint probability of independent events is calculated as \n",
    "    the probability of event A multiplied by the probability of event B. This can be stated formally as follows:\n",
    "\n",
    "Joint Probability: P(A and B) = P(A)*P(B)"
   ]
  },
  {
   "cell_type": "code",
   "execution_count": null,
   "id": "69c097a4",
   "metadata": {},
   "outputs": [],
   "source": [
    "4. What is chain rule of probability?\n",
    "Ans: The chain rule, or general product rule, calculates any component of the joint distribution of a set of random variables \n",
    "    using only conditional probabilities. This probability theory is used as a foundation for backpropagation and in creating \n",
    "    Bayesian networks."
   ]
  },
  {
   "cell_type": "code",
   "execution_count": null,
   "id": "dc104d86",
   "metadata": {},
   "outputs": [],
   "source": [
    "5. What is conditional probability means? What is the formula of it?\n",
    "Ans: Conditional probability is defined as the likelihood of an event or outcome occurring, based on the occurrence of a \n",
    "    previous event or outcome.\n",
    "\n",
    "Conditional probability is calculated by multiplying the probability of the preceding event by the updated probability of the \n",
    "succeeding, or conditional, event.\n",
    "\n",
    "Let's take a real-life example. Probability of selling a TV on a given normal day may be only 30%. But if we consider that \n",
    "given day is Diwali, then there are much more chances of selling a TV. The conditional Probability of selling a TV on a day \n",
    "given that Day is Diwali might be 70%."
   ]
  },
  {
   "cell_type": "code",
   "execution_count": null,
   "id": "2178c0d9",
   "metadata": {},
   "outputs": [],
   "source": [
    "6. What are continuous random variables?\n",
    "Ans: A continuous random variable X takes all values in a given interval of numbers. ▪ The probability distribution of a \n",
    "    continuous random variable is shown by a density curve. ▪ The probability that X is between an interval of numbers is the \n",
    "    area under the density curve between the interval endpoints."
   ]
  },
  {
   "cell_type": "code",
   "execution_count": null,
   "id": "17b8e764",
   "metadata": {},
   "outputs": [],
   "source": [
    "7. What are Bernoulli distributions? What is the formula of it?\n",
    "Ans: A Bernoulli distribution is a discrete probability distribution for a Bernoulli trial — a random experiment that has \n",
    "    only two outcomes (usually called a Succes or a Failure).The expected value for a random variable, X.\n",
    "\n",
    "For a Bernoulli distribution is: E[X] = p.For example, if p = 0.04, then E[X] = 0.4"
   ]
  },
  {
   "cell_type": "code",
   "execution_count": null,
   "id": "4aaf771e",
   "metadata": {},
   "outputs": [],
   "source": [
    "8. What is binomial distribution? What is the formula?\n",
    "Ans: The binomial is a type of distribution that has two possible outcomes (the prefix “bi” means two, or twice).For example, \n",
    "    a coin toss has only two possible outcomes: heads or tails and taking a test could have two possible outcomes: pass or fail.\n",
    "        \n",
    "A Binomial Distribution shows either (S)uccess or (F)ailure."
   ]
  },
  {
   "cell_type": "code",
   "execution_count": null,
   "id": "d125a2cf",
   "metadata": {},
   "outputs": [],
   "source": [
    "9. What is Poisson distribution? What is the formula?\n",
    "Ans: A Poisson distribution is defined as a discrete frequency distribution that gives the probability of the number of \n",
    "    independent events that occur in the fixed time.\n",
    "\n",
    "In statistics, a Poisson distribution is a probability distribution that is used to show how many times an event is likely to \n",
    "occur over a specified period. ... The Poisson distribution is a discrete function, meaning that the variable can only take \n",
    "specific values in a (potentially infinite) list."
   ]
  },
  {
   "cell_type": "code",
   "execution_count": null,
   "id": "175ba54e",
   "metadata": {},
   "outputs": [],
   "source": [
    "10. Define covariance ?\n",
    "Ans: Covariance is a measure of how much two random variables vary together. It's similar to variance, but where variance \n",
    "    tells you how a single variable varies, co variance tells you how two variables vary together."
   ]
  },
  {
   "cell_type": "code",
   "execution_count": null,
   "id": "85c6d687",
   "metadata": {},
   "outputs": [],
   "source": [
    "11. Define correlation ?\n",
    "Ans: Correlation explains how one or more variables are related to each other. These variables can be input data features \n",
    "    which have been used to forecast our target variable. It's a bi-variate analysis measure which describes the association \n",
    "    between different variables."
   ]
  },
  {
   "cell_type": "code",
   "execution_count": null,
   "id": "6ed8da28",
   "metadata": {},
   "outputs": [],
   "source": [
    "12. Define sampling with replacement. Give example.\n",
    "Ans: If you sample with replacement, you would choose one person's name, put that person's name back in the hat, and then \n",
    "    choose another name. The possibilities for your two-name sample are: John, John. John, Jack."
   ]
  },
  {
   "cell_type": "code",
   "execution_count": null,
   "id": "1cf47300",
   "metadata": {},
   "outputs": [],
   "source": [
    "13. What is sampling without replacement? Give example.\n",
    "Ans: In sampling without replacement, each sample unit of the population has only one chance to be selected in the sample. \n",
    "    For example, if one draws a simple random sample such that no unit occurs more than one time in the sample, the sample is \n",
    "    drawn without replacement."
   ]
  },
  {
   "cell_type": "code",
   "execution_count": null,
   "id": "1299ff3d",
   "metadata": {},
   "outputs": [],
   "source": [
    "14.What is hypothesis? Give example.\n",
    "Ans: A hypothesis (plural hypotheses) is a proposed explanation for a phenomenon. For a hypothesis to be a scientific \n",
    "    hypothesis, the scientific method requires that one can test it. ... Even though the words \"hypothesis\" and \"theory\" are \n",
    "    often used synonymously, a scientific hypothesis is not the same as a scientific theory.\n",
    "\n",
    "Examples of hypothesis statements: If garlic repels fleas, then a dog that is given garlic every day will not get fleas. \n",
    "    Bacterial growth may be affected by moisture levels in the air. If sugar causes cavities, then people who eat a lot of \n",
    "    candy may be more prone to cavities."
   ]
  }
 ],
 "metadata": {
  "kernelspec": {
   "display_name": "Python 3 (ipykernel)",
   "language": "python",
   "name": "python3"
  },
  "language_info": {
   "codemirror_mode": {
    "name": "ipython",
    "version": 3
   },
   "file_extension": ".py",
   "mimetype": "text/x-python",
   "name": "python",
   "nbconvert_exporter": "python",
   "pygments_lexer": "ipython3",
   "version": "3.9.7"
  }
 },
 "nbformat": 4,
 "nbformat_minor": 5
}
