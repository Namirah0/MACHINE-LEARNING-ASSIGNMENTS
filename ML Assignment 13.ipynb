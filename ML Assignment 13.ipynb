{
 "cells": [
  {
   "cell_type": "code",
   "execution_count": null,
   "id": "f6e92aed",
   "metadata": {},
   "outputs": [],
   "source": [
    "1. Provide an example of the concepts of Prior, Posterior, and Likelihood ?\n",
    "Ans: Bayes theorem states the following:\n",
    "\n",
    "Posterior = Prior * Likelihood\n",
    "\n",
    "This can also be stated as P (A | B) = (P (B | A) * P(A)) / P(B) , where P(A|B) is the probability of A given B, also called \n",
    "posterior.\n",
    "\n",
    "Prior: Probability distribution representing knowledge or uncertainty of a data object prior or before observing it\n",
    "\n",
    "Posterior: Conditional probability distribution representing what parameters are likely after observing the data object\n",
    "\n",
    "Likelihood: The probability of falling under a specific category or class."
   ]
  },
  {
   "cell_type": "code",
   "execution_count": null,
   "id": "116558f4",
   "metadata": {},
   "outputs": [],
   "source": [
    "2. What role does Bayes' theorem play in the concept learning principle ?\n",
    "Ans: The Bayes Theorem is a method for calculating conditional probabilities, or the likelihood of one event occurring if \n",
    "    another has previously occurred. A conditional probability can lead to more accurate outcomes by including extra conditions\n",
    "    — in other words, more data.\n",
    "    Bayes' theorem allows updating the probability prediction of an event by observing new information of the real world. \n",
    "    Example: If cancer corresponds to one's age then by using Bayes' theorem, we can determine the probability of cancer more \n",
    "    accurately with the help of age."
   ]
  },
  {
   "cell_type": "code",
   "execution_count": null,
   "id": "746d244c",
   "metadata": {},
   "outputs": [],
   "source": [
    "3. Offer an example of how the Nave Bayes classifier is used in real life ?\n",
    "Ans: Naive Bayes easily sorts out spam using keywords. For example, in spam, you can see the word 'viagra' much more often \n",
    "    than in regular mail. The algorithm must be trained to recognize such probabilities and, then, it can efficiently apply \n",
    "    them for spam filtering.\n",
    "    Some best examples of the Naive Bayes Algorithm are sentimental analysis, classifying new articles, and spam filtration."
   ]
  },
  {
   "cell_type": "code",
   "execution_count": null,
   "id": "be728a11",
   "metadata": {},
   "outputs": [],
   "source": [
    "4. Can the Nave Bayes classifier be used on continuous numeric data? If so, how can you go about doing it ?\n",
    "Ans: If an instance in test data set has a category that was not present during training then it will assign it “Zero” \n",
    "    probability and won't be able to make prediction. This is known as Zero frequency problem. It skews the whole performance \n",
    "    of the classification. As a Machine Learning enthusiast, everyone should know how to tackle if the situation arises."
   ]
  },
  {
   "cell_type": "code",
   "execution_count": null,
   "id": "f1535318",
   "metadata": {},
   "outputs": [],
   "source": [
    "5. What are Bayesian Belief Networks, and how do they work? What are their applications? Are they capable of resolving a wide \n",
    "range of issues ?\n",
    "Ans: Probabilistic Graphical Models based on Directed Acyclic Graphs (DAG) have a long and rich tradition, beginning with the \n",
    "    work of geneticist Sewall Wright in the 1920s. Variants have appeared in many fields. Within statistics, such models are \n",
    "    known as directed graphical models; within cognitive science and artificial intelligence, such models are known as Bayesian \n",
    "    networks. The name honors the Rev. Thomas Bayes (1702-1761), whose rule for updating probabilities in the light of new \n",
    "    evidence is the foundation of the approach.\n",
    "    Bayesian Networks are also known as Bayesian Belief Networks (BBN for short) or Bayes Nets. All these variations are \n",
    "    entirely equivalent. However, in this book, we exclusively use the term Bayesian Network. \n",
    "    Rev. Bayes addressed both the case of discrete probability distributions of data and the more complicated case of \n",
    "    continuous probability distributions. In the discrete case, Bayes’ theorem relates the conditional and marginal \n",
    "    probabilities of events A and B, provided that the probability of B is not equal to zero: \n"
   ]
  },
  {
   "cell_type": "code",
   "execution_count": null,
   "id": "71e96919",
   "metadata": {},
   "outputs": [],
   "source": [
    "6. Passengers are checked in an airport screening system to see if there is an intruder. Let I be the random variable that \n",
    "indicates whether someone is an intruder I = 1) or not I = 0), and A be the variable that indicates alarm I = 0). If an \n",
    "intruder is detected with probability P(A = 1|I = 1) = 0.98 and a non-intruder is detected with probability P(A = 1|I = 0) =\n",
    "0.001, an alarm will be triggered, implying the error factor. The likelihood of an intruder in the passenger population is \n",
    "P(I = 1) = 0.00001. What are the chances that an alarm would be triggered when an individual is actually an intruder ?"
   ]
  },
  {
   "cell_type": "code",
   "execution_count": null,
   "id": "3f61c782",
   "metadata": {},
   "outputs": [],
   "source": [
    "7. An antibiotic resistance test (random variable T) has 1% false positives (i.e., 1% of those who are not immune to an \n",
    "antibiotic display a positive result in the test) and 5% false negatives (i.e., 1% of those who are not resistant to an \n",
    "antibiotic show a positive result in the test) (i.e. 5 percent of those actually resistant to an antibiotic test negative). \n",
    "Assume that 2% of those who were screened were antibiotic-resistant. Calculate the likelihood that a person who tests positive\n",
    "is actually immune (random variable D) ?"
   ]
  },
  {
   "cell_type": "code",
   "execution_count": null,
   "id": "0bbeefda",
   "metadata": {},
   "outputs": [],
   "source": [
    "8. In order to prepare for the test, a student knows that there will be one question in the exam that is either form A, B, or \n",
    "C. The chances of getting an A, B, or C on the exam are 30 percent, 20%, and 50 percent, respectively. During the planning, the\n",
    "student solved 9 of 10 type A problems, 2 of 10 type B problems, and 6 of 10 type C problems.\n",
    "1.What is the likelihood that the student can solve the exam problem?\n",
    "2.Given the student's solution, what is the likelihood that the problem was of form A?\n",
    "Ans: 20%"
   ]
  },
  {
   "cell_type": "code",
   "execution_count": null,
   "id": "b185a4fb",
   "metadata": {},
   "outputs": [],
   "source": [
    "9. A bank installs a CCTV system to track and photograph incoming customers. Despite the constant influx of customers, we \n",
    "divide the timeline into 5 minute bins. There may be a customer coming into the bank with a 5% chance in each 5-minute time \n",
    "period, or there may be no customer (again, for simplicity, we assume that either there is 1 customer or none, not the case of \n",
    "multiple customers). If there is a client, the CCTV will detect them with a 99 percent \n",
    "probability. If there is no customer, the camera can take a false photograph with a 10% chance of detecting movement from other\n",
    "objects.\n",
    "1.How many customers come into the bank on a daily basis (10 hours)?\n",
    "2.On a daily basis, how many fake photographs (photographs taken when there is no customer) and how many missed photographs \n",
    "(photographs taken when there is a customer) are there?\n",
    "3.Explain likelihood that there is a customer if there is a photograph  "
   ]
  },
  {
   "cell_type": "code",
   "execution_count": null,
   "id": "cdf23afb",
   "metadata": {},
   "outputs": [],
   "source": [
    "10. Create the conditional probability table associated with the node Won Toss in the Bayesian Belief network to represent \n",
    "the conditional independence assumptions of the Nave Bayes classifier for the match winning prediction problem in Section \n",
    "6.4.4."
   ]
  }
 ],
 "metadata": {
  "kernelspec": {
   "display_name": "Python 3 (ipykernel)",
   "language": "python",
   "name": "python3"
  },
  "language_info": {
   "codemirror_mode": {
    "name": "ipython",
    "version": 3
   },
   "file_extension": ".py",
   "mimetype": "text/x-python",
   "name": "python",
   "nbconvert_exporter": "python",
   "pygments_lexer": "ipython3",
   "version": "3.9.7"
  }
 },
 "nbformat": 4,
 "nbformat_minor": 5
}
