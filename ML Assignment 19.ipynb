{
 "cells": [
  {
   "cell_type": "code",
   "execution_count": null,
   "id": "bcb930e9",
   "metadata": {},
   "outputs": [],
   "source": [
    "1. A set of one-dimensional data points is given to you: 5, 10, 15, 20, 25, 30, 35. Assume that k = 2 and that the first set \n",
    "    of random centroid is 15, 32, and that the second set is 12, 30. ?\n",
    "1.Using the k-means method, create two clusters for each set of centroid described above.\n",
    "2.For each set of centroid values, calculate the SSE.\n",
    "Ans:"
   ]
  },
  {
   "cell_type": "code",
   "execution_count": null,
   "id": "95f1101b",
   "metadata": {},
   "outputs": [],
   "source": [
    "2. Describe how the Market Basket Research makes use of association analysis concepts ?\n",
    "Ans:In market basket analysis, association rules are used to predict the likelihood of products being purchased together. \n",
    "    Association rules count the frequency of items that occur together, seeking to find associations that occur far more often\n",
    "    than expected"
   ]
  },
  {
   "cell_type": "code",
   "execution_count": null,
   "id": "058ca78f",
   "metadata": {},
   "outputs": [],
   "source": [
    "3. Give an example of the Apriori algorithm for learning association rules ?\n",
    "Ans:Apriori Algorithm is one of the algorithm used for transaction data in Association Rule Learning. It allows us to mine the\n",
    "    frequent itemset in order to generate association rule between them. Example: list of items purchased by customers, details\n",
    "    of website which are frequently visited etc.  "
   ]
  },
  {
   "cell_type": "code",
   "execution_count": null,
   "id": "a08c6823",
   "metadata": {},
   "outputs": [],
   "source": [
    "4. In hierarchical clustering, how is the distance between clusters measured? Explain how this metric is used to decide when to\n",
    "end the iteration ?\n",
    "Ans:For most common hierarchical clustering software, the default distance measure is the Euclidean distance. This is the \n",
    "    square root of the sum of the square differences. However, for gene expression, correlation distance is often used. The \n",
    "    distance between two vectors is 0 when they are perfectly correlated.\n"
   ]
  },
  {
   "cell_type": "code",
   "execution_count": null,
   "id": "f82f7067",
   "metadata": {},
   "outputs": [],
   "source": [
    "5. In the k-means algorithm, how do you recompute the cluster centroids ?\n",
    "Ans:Step 1: Choose the number of clusters k - The first step in k-means is to pick the number of clusters, k.\n",
    "    Step 2: Select k random points from the data as centroids Next, we randomly select the centroid for each cluster. Let’s say \n",
    "    we want to have 2 clusters, so k is equal to 2 here. We then randomly select the centroid:\n",
    "    Step 3: Assign all the points to the closest cluster centroid - Once we have initialized the centroids, we assign each \n",
    "    point to the closest cluster centroid\n",
    "    Step 4: Recompute the centroids of newly formed clusters - Now, once we have assigned all of the points to either cluster, \n",
    "    the next step is to compute the centroids of newly formed clusters.\n",
    "    "
   ]
  },
  {
   "cell_type": "code",
   "execution_count": null,
   "id": "fa1d229e",
   "metadata": {},
   "outputs": [],
   "source": [
    "6. At the start of the clustering exercise, discuss one method for determining the required number of clusters ?\n",
    "Ans: In Clustering algorithms like K-Means clustering, we have to determine the right number of clusters for our dataset. \n",
    "    This ensures that the data is properly and efficiently divided. An appropriate value of ‘k’ i.e. the number of clusters \n",
    "    helps in ensuring proper granularity of clusters and helps in maintaining a good balance between compressibility and \n",
    "    accuracy of clusters.\n",
    "\n",
    "Let us consider two cases:\n",
    "Case 1: Treat the entire dataset as one cluster\n",
    "Case 2: Treat each data point as a cluster\n",
    "    This will give the most accurate clustering because of the zero distance between the data point and its corresponding \n",
    "    cluster center. But, this will not help in predicting new inputs. It will not enable any kind of data summarization."
   ]
  },
  {
   "cell_type": "code",
   "execution_count": null,
   "id": "2b5f4f82",
   "metadata": {},
   "outputs": [],
   "source": [
    "7. Discuss the k-means algorithm's advantages and disadvantages ?\n",
    "Ans:\n",
    "    Advantages of k-means\n",
    "1.Relatively simple to implement.\n",
    "2.Scales to large data sets.\n",
    "3.Guarantees convergence.\n",
    "4.Can warm-start the positions of centroids.\n",
    "5.Easily adapts to new examples.\n",
    "6.Generalizes to clusters of different shapes and sizes, such as elliptical clusters.\n",
    "    \n",
    "    Disadvantages of k-means\n",
    "1.Choosing manually.\n",
    "2.Being dependent on initial values.\n",
    "3.Clustering data of varying sizes and density.\n",
    "4.Clustering outliers.\n",
    "5.Scaling with number of dimensions.\n",
    "\n"
   ]
  },
  {
   "cell_type": "code",
   "execution_count": null,
   "id": "201feb98",
   "metadata": {},
   "outputs": [],
   "source": [
    "8. Draw a diagram to demonstrate the principle of clustering ?\n",
    "Ans:Clustering is the task of dividing the population or data points into a number of groups such that data points in the same \n",
    "    groups are more similar to other data points in the same group and dissimilar to the data points in other groups. It is \n",
    "    basically a collection of objects on the basis of similarity and dissimilarity between them. \n",
    "\n",
    "For ex– The data points in the graph below clustered together can be classified into one single group. We can distinguish the \n",
    "clusters, and we can identify that there are 3 clusters in the below picture. \n",
    "    "
   ]
  },
  {
   "cell_type": "code",
   "execution_count": null,
   "id": "61b1280c",
   "metadata": {},
   "outputs": [],
   "source": [
    "9. During your study, you discovered seven findings, which are listed in the data points below. Using the K-means algorithm, \n",
    "you want to build three clusters from these observations. The clusters C1, C2, and C3 have the following findings after the \n",
    "first iteration ?\n",
    "C1: (2,2), (4,4), (6,6); C2: (2,2), (4,4), (6,6); C3: (2,2), (4,4),\n",
    "C2: (0,4), (4,0), (0,4), (0,4), (0,4), (0,4), (0,4), (0,4), (0,\n",
    "C3: (5,5) and (9,9)\n",
    "What would the cluster centroids be if you were to run a second iteration? What would this clustering's SSE be?"
   ]
  },
  {
   "cell_type": "code",
   "execution_count": null,
   "id": "bb59d86e",
   "metadata": {},
   "outputs": [],
   "source": [
    "10. In a software project, the team is attempting to determine if software flaws discovered during testing are identical. \n",
    "Based on the text analytics of the defect details, they decided to build 5 clusters of related defects. Any new defect formed \n",
    "after the 5 clusters of defects have been identified must be listed as one of the forms identified by clustering. A simple \n",
    "diagram can be used to explain this process. Assume you have 20 defect data points that are clustered into 5 clusters and you\n",
    "used the k-means algorithm ?\n",
    "Ans:\n",
    "1.Testing Shows the Presence of Defects\n",
    "2.Early Testing\n",
    "3.Exhaustive Testing is Not Possible\n",
    "4.Testing is Context-Dependent\n",
    "5.Defect Clustering\n",
    "6.Pesticide Paradox\n",
    "7.Absence of Error\n"
   ]
  }
 ],
 "metadata": {
  "kernelspec": {
   "display_name": "Python 3 (ipykernel)",
   "language": "python",
   "name": "python3"
  },
  "language_info": {
   "codemirror_mode": {
    "name": "ipython",
    "version": 3
   },
   "file_extension": ".py",
   "mimetype": "text/x-python",
   "name": "python",
   "nbconvert_exporter": "python",
   "pygments_lexer": "ipython3",
   "version": "3.9.7"
  }
 },
 "nbformat": 4,
 "nbformat_minor": 5
}
