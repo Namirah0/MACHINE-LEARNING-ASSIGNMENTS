{
 "cells": [
  {
   "cell_type": "code",
   "execution_count": null,
   "id": "acc10fd3",
   "metadata": {},
   "outputs": [],
   "source": [
    "1. What does one mean by the term \"machine learning\" ?\n",
    "\n",
    "Ans: Machine learning Popularly known as ML is a branch of Artificial Intelligence (AI) that allows software applications \n",
    "    to become more accurate at predicting outcomes without being explicitly programmed to do so. Machine learning algorithms \n",
    "    use historical data as input to predict new output values. As it is evident from the name, it gives the computer that makes\n",
    "    it more similar to humans: The ability to learn. Machine learning is actively being used today, perhaps in many more places\n",
    "    than one would expect."
   ]
  },
  {
   "cell_type": "code",
   "execution_count": null,
   "id": "1ed61e02",
   "metadata": {},
   "outputs": [],
   "source": [
    "2.Can you think of 4 distinct types of issues where it shines ?\n",
    "Ans: The following are some of the issues where Machine Learning can be used:\n",
    "\n",
    "Image Recognition: Image recognition is one of the most common applications of machine learning. It is used to identify objects,\n",
    "    persons, places, digital images, etc. The popular use case of image recognition and face detection is Automatic friend \n",
    "    tagging suggestion.\n",
    "Speech Recognition: While using Google, we get an option of Search by voice, it comes under speech recognition, and it's a \n",
    "    popular application of Machine Learning. Speech recognition is a process of converting voice instructions into text, and \n",
    "    it is also known as Speech to text, or Computer based speech recognition At present, machine learning algorithms are widely\n",
    "    used by various applications of speech recognition. Google assistant, Siri, Cortana, and Alexa are using speech recognition\n",
    "    technology to follow the voice instructions.\n",
    "Traffic prediction: It predicts the traffic conditions such as whether traffic is cleared, slow-moving, or heavily congested \n",
    "    with the help of two ways: Real Time location of the vehicle form Google Map app and sensors Average time has taken on past\n",
    "        days at the same time.\n",
    "Product recommendations: Machine learning is widely used by various e-commerce and entertainment companies such as Amazon, \n",
    "    Netflix, etc., for product recommendation to the user."
   ]
  },
  {
   "cell_type": "code",
   "execution_count": null,
   "id": "c0a17dc1",
   "metadata": {},
   "outputs": [],
   "source": [
    "3.What is a labeled training set, and how does it work ?\n",
    "Ans: You split up the data containing known response variable values into two pieces. The training set is used to train the \n",
    "    algorithm, and then we use the trained model on the test set to predict the response variable values that are already \n",
    "    known. Clearly, it is better to have labeled data than unlabeled data since we can get much more information from them."
   ]
  },
  {
   "cell_type": "code",
   "execution_count": null,
   "id": "28632577",
   "metadata": {},
   "outputs": [],
   "source": [
    "4.What are the two most important tasks that are supervised ?\n",
    "Ans: The two most common supervised learning tasks are Regression and Classification."
   ]
  },
  {
   "cell_type": "code",
   "execution_count": null,
   "id": "f6f8aafb",
   "metadata": {},
   "outputs": [],
   "source": [
    "5.Can you think of four examples of unsupervised tasks ?\n",
    "Ans: Four common Unsupervised Tasks included Clustering, Visualization, Dimensionality Reduction, and Association Rule Learning."
   ]
  },
  {
   "cell_type": "code",
   "execution_count": null,
   "id": "9d7f4818",
   "metadata": {},
   "outputs": [],
   "source": [
    "6.State the machine learning model that would be best to make a robot walk through various unfamiliar terrains ?\n",
    "Ans: The best Machine Learning algorithm to allow a Robot to walk in unfamiliar terrains is Reinforced Learning, where the \n",
    "    robot can learn from response of the terrain to optimize itself."
   ]
  },
  {
   "cell_type": "code",
   "execution_count": null,
   "id": "5e6098db",
   "metadata": {},
   "outputs": [],
   "source": [
    "7.Which algorithm will you use to divide your customers into different groups ?\n",
    "Ans: The Best Algorithm to Segment Customers into different groups is either Supervised Learning (if the groups have known \n",
    "     labels) or Unsupervised Learning (if there are no group labels)."
   ]
  },
  {
   "cell_type": "code",
   "execution_count": null,
   "id": "9c121dc0",
   "metadata": {},
   "outputs": [],
   "source": [
    "8.Will you consider the problem of spam detection to be a supervised or unsupervised learning problem ?\n",
    "Ans: Spam detection is a Supervised Machine Learning problem because the labels are known (spam or no spam)."
   ]
  },
  {
   "cell_type": "code",
   "execution_count": null,
   "id": "f8bbe140",
   "metadata": {},
   "outputs": [],
   "source": [
    "9.What is the concept of an online learning system ?\n",
    "Ans: Online learning system is a learning system in which the machine learns continously, as data is given in small streams \n",
    "    continuously."
   ]
  },
  {
   "cell_type": "code",
   "execution_count": null,
   "id": "ff0265cd",
   "metadata": {},
   "outputs": [],
   "source": [
    "10.What is out-of-core learning, and how does it differ from core learning ?\n",
    "Ans: Out-of-core learning system is a system that can handle data that cannot fit into our computer memory. It uses online \n",
    "    learning system to feed data in small bits."
   ]
  },
  {
   "cell_type": "code",
   "execution_count": null,
   "id": "0205f43c",
   "metadata": {},
   "outputs": [],
   "source": [
    "11.What kind of learning algorithm makes predictions using a similarity measure ?\n",
    "Ans: Learning algorithm that relies on a similarity measure to make predictions is Instance Based Algorithm. The Machine \n",
    "    Learning systems which are categorized as instance-based learning are the systems that learn the training examples by \n",
    "    heart and then generalizes to new instances based on some similarity measure. It is called instance-based because it \n",
    "    builds the hypotheses from the training instances. It is also known as memory-based learning or lazy-learning. The time \n",
    "    complexity of this algorithm depends upon the size of training data. The worst-case time complexity of this algorithm is \n",
    "    O (n), where n is the number of training instances.\n",
    "\n",
    "For example, If we were to create a spam filter with an instance-based learning algorithm, instead of just flagging emails \n",
    "that are already marked as spam emails, our spam filter would be programmed to also flag emails that are very similar to them. \n",
    "This requires a measure of resemblance between two emails. A similarity measure between two emails could be the same sender or \n",
    "the repetitive use of the same keywords or something else."
   ]
  },
  {
   "cell_type": "code",
   "execution_count": null,
   "id": "2121eece",
   "metadata": {},
   "outputs": [],
   "source": [
    "12.What's the difference between a model parameter and a hyperparameter in a learning algorithm ?\n",
    "Ans: Model parameter determines how a model will predict given a new instance. Model usually has more than one parameter \n",
    "    (i.e. slope of a linear model). Hyperparameter is a parameter for the learning algorithm, not of a model. Model parameters\n",
    "    are estimated based on the data during model training and model hyperparameters are set manually and are used in processes\n",
    "    to help estimate model parameters. Model hyperparameters are often referred to as parameters because they are the parts of \n",
    "    the machine learning that must be set manually and tuned."
   ]
  },
  {
   "cell_type": "code",
   "execution_count": null,
   "id": "aa744781",
   "metadata": {},
   "outputs": [],
   "source": [
    "13.What are the criteria that model-based learning algorithms look for? What is the most popular method they use to achieve\n",
    "success? What method do they use to make predictions ?\n",
    "Ans: Model based learning algorithm search for the optimal value of parameters in a model that will give the best results for \n",
    "    the new instances. We often use a cost function or similar to determine what the parameter value has to be in order to\n",
    "    minimize the function. The model makes prediction by using the value of the new instance and the parameters in its function.\n",
    "    The goal for a model-based algorithm is to be able to generalize to new examples. To do this, model based algorithms search\n",
    "    for optimal values for the model's parameters, often called theta. This searching, or \"learning\", is what machine learning \n",
    "    is all about. Model-based system learn by minimizing a cost function that measures how bad the system is at making \n",
    "    predicitons on new data, plus a penalty for model complexity if the model is regularized. To make a prediction, a new \n",
    "    instance's features are fed into a hypothesis function which uses the minimized theta found by repeatedly running the \n",
    "    cost function."
   ]
  },
  {
   "cell_type": "code",
   "execution_count": null,
   "id": "49cc7d35",
   "metadata": {},
   "outputs": [],
   "source": [
    "14.Can you name four of the most important Machine Learning challenges ?\n",
    "Ans: Four main challenges in Machine Learning include the following:\n",
    "\n",
    "a.Overfitting the Data (using a model too complicated)\n",
    "b.Underfitting the data (using a simple model)\n",
    "c.Lacking in Data\n",
    "d.Non Representative Data."
   ]
  },
  {
   "cell_type": "code",
   "execution_count": null,
   "id": "0dd2b7a6",
   "metadata": {},
   "outputs": [],
   "source": [
    "15.What happens if the model performs well on the training data but fails to generalize the results to new situations? Can you \n",
    "think of three different options ?\n",
    "Ans: If the model performs poorly to new instances, then it has overfitted on the training data. To solve this, we can do any \n",
    "    of the following three:\n",
    "\n",
    "Get more data\n",
    "Implement a simpler model\n",
    "Eliminate outliers or noise from the existing data set."
   ]
  },
  {
   "cell_type": "code",
   "execution_count": null,
   "id": "f31c1cea",
   "metadata": {},
   "outputs": [],
   "source": [
    "16.What exactly is a test set, and why would you need one ?\n",
    "Ans: Test set is a set to test your model (fit using training data) to see how it performs.Test set is necessary to determine \n",
    "    how good (or bad) a model performs. When we want to know how well our model generalizes to new cases we prefer to use a \n",
    "    test set instead of actually deploying the system. To build the test set we split the training data (50-50, 60-40, 80-20 \n",
    "    are common splits) into a training set and test set. Our model is training with the training set. Then we use the model to\n",
    "    run predictions on the test set. Our error rate on the test set is called the generalization error or out-of-sample error.\n",
    "    This error tells us how well our model performs on examples it has never seen before.\n",
    "\n",
    "If the training error is low, but the generalization error is high, it means we're overfitting our model."
   ]
  },
  {
   "cell_type": "code",
   "execution_count": null,
   "id": "d811d336",
   "metadata": {},
   "outputs": [],
   "source": [
    "17.What is a validation set's purpose ?\n",
    "Ans: Validation set is a set used to compare between different training models. Let's say we have a linear model and we want \n",
    "    to perform some hyperparameter tuning to reduce the generalization error. One way to do this 100 different models with 100\n",
    "    different hyperparameter values using the training set and finding the generalization error with the test set. You find the\n",
    "    best hyperparameter value gives you 5% generalization error.\n",
    "\n",
    "So you launch the model into production and find you're seeing 15% generalization error. This isn't going as expected. What \n",
    "happened?\n",
    "\n",
    "The problem is that for each iteration of hyperparameter tuning, you measured the generalization error then updated the model \n",
    "using the same test set. In other words, your produced the best generalization error for the test set. The test set no longer \n",
    "represents cases the model hasn't seen before.\n",
    "\n",
    "A common solution to this problem is to have a second holdout set called the validation set. You train multiple models with \n",
    "various hyperparameters using the training set, you select the model and hyperparameters that perform best on the validation \n",
    "set, and when you are happy about your model you run a single final test against the test set to get an estimate of the \n",
    "generalization error."
   ]
  },
  {
   "cell_type": "code",
   "execution_count": null,
   "id": "42024ba5",
   "metadata": {},
   "outputs": [],
   "source": [
    "18.What precisely is the train-dev kit, when will you need it, how do you put it to use ?\n",
    "Ans: Cross-validation is a tool to compare models without needing a separate validation set. It is preferred over validation \n",
    "    set because we can save from breaking of part of the training set to create a validation set, as having more data is \n",
    "    valuable regardless."
   ]
  },
  {
   "cell_type": "code",
   "execution_count": null,
   "id": "eff37852",
   "metadata": {},
   "outputs": [],
   "source": [
    "19.What could go wrong if you use the test set to tune hyperparameters ?\n",
    "Ans: If you tune hyperparameters using the test sets, then it may not perform well on the out-of-sample data because the \n",
    "    model is tuned just for that specific set. Our model will not be generalizable to new examples."
   ]
  }
 ],
 "metadata": {
  "kernelspec": {
   "display_name": "Python 3 (ipykernel)",
   "language": "python",
   "name": "python3"
  },
  "language_info": {
   "codemirror_mode": {
    "name": "ipython",
    "version": 3
   },
   "file_extension": ".py",
   "mimetype": "text/x-python",
   "name": "python",
   "nbconvert_exporter": "python",
   "pygments_lexer": "ipython3",
   "version": "3.9.7"
  }
 },
 "nbformat": 4,
 "nbformat_minor": 5
}
